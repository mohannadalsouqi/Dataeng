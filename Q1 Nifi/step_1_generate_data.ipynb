{
 "cells": [
  {
   "cell_type": "markdown",
   "id": "cba227a9-63ab-436d-887c-57355851916e",
   "metadata": {},
   "source": [
    "# Import libraries"
   ]
  },
  {
   "cell_type": "code",
   "execution_count": 1,
   "id": "2fe60b58-fff5-448e-92b7-74b0f2d8852b",
   "metadata": {},
   "outputs": [
    {
     "name": "stdout",
     "output_type": "stream",
     "text": [
      "Collecting faker\n",
      "  Downloading Faker-8.1.4-py3-none-any.whl (1.2 MB)\n",
      "\u001b[K     |████████████████████████████████| 1.2 MB 1.0 MB/s eta 0:00:01\n",
      "\u001b[?25hRequirement already satisfied: python-dateutil>=2.4 in /opt/conda/lib/python3.9/site-packages (from faker) (2.8.1)\n",
      "Collecting text-unidecode==1.3\n",
      "  Downloading text_unidecode-1.3-py2.py3-none-any.whl (78 kB)\n",
      "\u001b[K     |████████████████████████████████| 78 kB 4.6 MB/s eta 0:00:011\n",
      "\u001b[?25hRequirement already satisfied: six>=1.5 in /opt/conda/lib/python3.9/site-packages (from python-dateutil>=2.4->faker) (1.16.0)\n",
      "Installing collected packages: text-unidecode, faker\n",
      "Successfully installed faker-8.1.4 text-unidecode-1.3\n",
      "Collecting pandas\n",
      "  Downloading pandas-1.2.4-cp39-cp39-manylinux1_x86_64.whl (9.7 MB)\n",
      "\u001b[K     |████████████████████████████████| 9.7 MB 1.3 MB/s eta 0:00:01\n",
      "\u001b[?25hRequirement already satisfied: pytz>=2017.3 in /opt/conda/lib/python3.9/site-packages (from pandas) (2021.1)\n",
      "Requirement already satisfied: python-dateutil>=2.7.3 in /opt/conda/lib/python3.9/site-packages (from pandas) (2.8.1)\n",
      "Collecting numpy>=1.16.5\n",
      "  Downloading numpy-1.20.3-cp39-cp39-manylinux_2_12_x86_64.manylinux2010_x86_64.whl (15.4 MB)\n",
      "\u001b[K     |████████████████████████████████| 15.4 MB 3.3 MB/s eta 0:00:01\n",
      "\u001b[?25hRequirement already satisfied: six>=1.5 in /opt/conda/lib/python3.9/site-packages (from python-dateutil>=2.7.3->pandas) (1.16.0)\n",
      "Installing collected packages: numpy, pandas\n",
      "Successfully installed numpy-1.20.3 pandas-1.2.4\n"
     ]
    }
   ],
   "source": [
    "try:\n",
    "    from faker import Faker\n",
    "    import pandas as pd\n",
    "    from faker import Faker\n",
    "    import csv\n",
    "except:\n",
    "    !pip install faker\n",
    "    !pip install pandas\n",
    "    from faker import Faker\n",
    "    import pandas as pd\n",
    "    from faker import Faker\n",
    "    import csv"
   ]
  },
  {
   "cell_type": "markdown",
   "id": "a736cd42-a013-4376-8f74-a16580264fbe",
   "metadata": {},
   "source": [
    "# Generate CSV Data "
   ]
  },
  {
   "cell_type": "code",
   "execution_count": 2,
   "id": "7e86a5cf-b8fd-48d8-a80a-5c6f944f2e17",
   "metadata": {},
   "outputs": [
    {
     "name": "stdout",
     "output_type": "stream",
     "text": [
      "Done\n"
     ]
    }
   ],
   "source": [
    "output=open('data.csv','w')\n",
    "fake=Faker()\n",
    "header=['id','name','address','company','job_title','phone_number','created_date']\n",
    "mywriter=csv.writer(output)\n",
    "mywriter.writerow(header)\n",
    "for r in range(1000):\n",
    "    row =[fake.random_int(),fake.name(),fake.address(), fake.company(),fake.job(),fake.phone_number(),fake.date_between(start_date='-10y', end_date='today')]\n",
    "    mywriter.writerow(row)\n",
    "\n",
    "output.close()\n",
    "print(\"Done\")"
   ]
  }
 ],
 "metadata": {
  "kernelspec": {
   "display_name": "Python 3",
   "language": "python",
   "name": "python3"
  },
  "language_info": {
   "codemirror_mode": {
    "name": "ipython",
    "version": 3
   },
   "file_extension": ".py",
   "mimetype": "text/x-python",
   "name": "python",
   "nbconvert_exporter": "python",
   "pygments_lexer": "ipython3",
   "version": "3.9.2"
  }
 },
 "nbformat": 4,
 "nbformat_minor": 5
}
